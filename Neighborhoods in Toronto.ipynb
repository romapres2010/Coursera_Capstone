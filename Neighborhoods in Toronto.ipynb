{
 "nbformat": 4,
 "nbformat_minor": 2,
 "metadata": {
  "language_info": {
   "name": "python",
   "codemirror_mode": {
    "name": "ipython",
    "version": 3
   },
   "version": "3.7.4"
  },
  "orig_nbformat": 2,
  "file_extension": ".py",
  "mimetype": "text/x-python",
  "name": "python",
  "npconvert_exporter": "python",
  "pygments_lexer": "ipython3",
  "version": 3
 },
 "cells": [
  {
   "cell_type": "markdown",
   "execution_count": null,
   "metadata": {},
   "outputs": [],
   "source": [
    "# This notebook will be used for the capstone project\n",
    "## Segmenting and Clustering Neighborhoods in Toronto"
   ]
  },
  {
   "cell_type": "markdown",
   "execution_count": null,
   "metadata": {},
   "outputs": [],
   "source": [
    "### Install requed library"
   ]
  },
  {
   "cell_type": "code",
   "execution_count": 1,
   "metadata": {},
   "outputs": [
    {
     "name": "stdout",
     "output_type": "stream",
     "text": "Collecting package metadata (current_repodata.json): ...working... done\nSolving environment: ...working... \nWarning: 4 possible package resolutions (only showing differing packages):\n  - anaconda::ca-certificates-2019.8.28-0, anaconda::openssl-1.1.1d-he774522_2\n  - anaconda::ca-certificates-2019.8.28-0, defaults::openssl-1.1.1d-he774522_2\n  - anaconda::openssl-1.1.1d-he774522_2, defaults::ca-certificates-2019.8.28-0\n  - defaults::ca-certificates-2019.8.28-0, defaults::openssl-1.1.1d-he774522_2done\n\n# All requested packages already installed.\n\nCollecting package metadata (current_repodata.json): ...working... done\nSolving environment: ...working... \nWarning: 4 possible package resolutions (only showing differing packages):\n  - anaconda::ca-certificates-2019.8.28-0, anaconda::openssl-1.1.1d-he774522_2\n  - anaconda::openssl-1.1.1d-he774522_2, defaults::ca-certificates-2019.8.28-0\n  - anaconda::ca-certificates-2019.8.28-0, defaults::openssl-1.1.1d-he774522_2\n  - defaults::ca-certificates-2019.8.28-0, defaults::openssl-1.1.1d-he774522_2done\n\n# All requested packages already installed.\n\nCollecting package metadata (current_repodata.json): ...working... done\nSolving environment: ...working... \nWarning: 4 possible package resolutions (only showing differing packages):\n  - anaconda::ca-certificates-2019.8.28-0, anaconda::openssl-1.1.1d-he774522_2\n  - anaconda::ca-certificates-2019.8.28-0, defaults::openssl-1.1.1d-he774522_2\n  - anaconda::openssl-1.1.1d-he774522_2, defaults::ca-certificates-2019.8.28-0\n  - defaults::ca-certificates-2019.8.28-0, defaults::openssl-1.1.1d-he774522_2done\n\n# All requested packages already installed.\n\nCollecting package metadata (current_repodata.json): ...working... done\nSolving environment: ...working... \nWarning: 4 possible package resolutions (only showing differing packages):\n  - anaconda::ca-certificates-2019.8.28-0, anaconda::openssl-1.1.1d-he774522_2\n  - anaconda::openssl-1.1.1d-he774522_2, defaults::ca-certificates-2019.8.28-0\n  - anaconda::ca-certificates-2019.8.28-0, defaults::openssl-1.1.1d-he774522_2\n  - defaults::ca-certificates-2019.8.28-0, defaults::openssl-1.1.1d-he774522_2done\n\n# All requested packages already installed.\n\n"
    }
   ],
   "source": [
    "!conda install -c conda-forge Beautifulsoup4 --yes \n",
    "!conda install -c conda-forge lxml --yes \n",
    "!conda install -c conda-forge html5lib --yes \n",
    "!conda install -c conda-forge requests --yes "
   ]
  },
  {
   "cell_type": "markdown",
   "execution_count": 7,
   "metadata": {},
   "outputs": [
    {
     "ename": "SyntaxError",
     "evalue": "invalid syntax (<ipython-input-7-e368ee9ed337>, line 1)",
     "output_type": "error",
     "traceback": [
      "\u001b[1;36m  File \u001b[1;32m\"<ipython-input-7-e368ee9ed337>\"\u001b[1;36m, line \u001b[1;32m1\u001b[0m\n\u001b[1;33m    Import library\u001b[0m\n\u001b[1;37m                 ^\u001b[0m\n\u001b[1;31mSyntaxError\u001b[0m\u001b[1;31m:\u001b[0m invalid syntax\n"
     ]
    }
   ],
   "source": [
    "## Prepare Dataframe"
   ]
  },
  {
   "cell_type": "code",
   "execution_count": 2,
   "metadata": {},
   "outputs": [],
   "source": [
    "import requests # library to handle requests\n",
    "import pandas as pd # library for data analsysis\n",
    "import numpy as np # library to handle data in a vectorized manner\n",
    "from bs4 import BeautifulSoup # library for html scrap"
   ]
  },
  {
   "cell_type": "markdown",
   "execution_count": null,
   "metadata": {},
   "outputs": [],
   "source": [
    "Define procedure for HTML table parse"
   ]
  },
  {
   "cell_type": "code",
   "execution_count": 3,
   "metadata": {},
   "outputs": [],
   "source": [
    "def parse_html_table(table):\n",
    "    n_columns = 0\n",
    "    n_rows=0\n",
    "    column_names = []\n",
    "\n",
    "    # Find number of rows and columns\n",
    "    # we also find the column titles if we can\n",
    "    for row in table.find_all('tr'):\n",
    "        \n",
    "        # Determine the number of rows in the table\n",
    "        td_tags = row.find_all('td')\n",
    "        if len(td_tags) > 0:\n",
    "            n_rows+=1\n",
    "            if n_columns == 0:\n",
    "                # Set the number of columns for our table\n",
    "                n_columns = len(td_tags)\n",
    "                \n",
    "        # Handle column names if we find them\n",
    "        th_tags = row.find_all('th') \n",
    "        if len(th_tags) > 0 and len(column_names) == 0:\n",
    "            for th in th_tags:\n",
    "                column_names.append(th.get_text())\n",
    "\n",
    "    # Safeguard on Column Titles\n",
    "    if len(column_names) > 0 and len(column_names) != n_columns:\n",
    "        raise Exception(\"Column titles do not match the number of columns\")\n",
    "\n",
    "    columns = column_names if len(column_names) > 0 else range(0,n_columns)\n",
    "    df = pd.DataFrame(columns = columns,\n",
    "                        index= range(0,n_rows))\n",
    "    row_marker = 0\n",
    "    for row in table.find_all('tr'):\n",
    "        column_marker = 0\n",
    "        columns = row.find_all('td')\n",
    "        for column in columns:\n",
    "            df.iat[row_marker,column_marker] = column.get_text()\n",
    "            column_marker += 1\n",
    "        if len(columns) > 0:\n",
    "            row_marker += 1\n",
    "            \n",
    "    # Convert to float if possible\n",
    "    for col in df:\n",
    "        try:\n",
    "            df[col] = df[col].astype(float)\n",
    "        except ValueError:\n",
    "            pass\n",
    "    \n",
    "    return df"
   ]
  },
  {
   "cell_type": "markdown",
   "execution_count": null,
   "metadata": {},
   "outputs": [],
   "source": [
    "Dowload Wikipedia page"
   ]
  },
  {
   "cell_type": "code",
   "execution_count": 4,
   "metadata": {},
   "outputs": [],
   "source": [
    "url = \"https://en.wikipedia.org/wiki/List_of_postal_codes_of_Canada:_M\"\n",
    "response = requests.get(url)"
   ]
  },
  {
   "cell_type": "markdown",
   "execution_count": null,
   "metadata": {},
   "outputs": [],
   "source": [
    "Take first HTML table from the page and parse it into dataframe"
   ]
  },
  {
   "cell_type": "code",
   "execution_count": 5,
   "metadata": {},
   "outputs": [],
   "source": [
    "soup = BeautifulSoup(response.text, 'lxml')\n",
    "df = parse_html_table(soup.find('table'))  "
   ]
  },
  {
   "cell_type": "markdown",
   "execution_count": null,
   "metadata": {},
   "outputs": [],
   "source": [
    "Take a look at the dataframe"
   ]
  },
  {
   "cell_type": "code",
   "execution_count": 6,
   "metadata": {},
   "outputs": [
    {
     "data": {
      "text/html": "<div>\n<style scoped>\n    .dataframe tbody tr th:only-of-type {\n        vertical-align: middle;\n    }\n\n    .dataframe tbody tr th {\n        vertical-align: top;\n    }\n\n    .dataframe thead th {\n        text-align: right;\n    }\n</style>\n<table border=\"1\" class=\"dataframe\">\n  <thead>\n    <tr style=\"text-align: right;\">\n      <th></th>\n      <th>Postcode</th>\n      <th>Borough</th>\n      <th>Neighborhood\\n</th>\n    </tr>\n  </thead>\n  <tbody>\n    <tr>\n      <td>0</td>\n      <td>M1A</td>\n      <td>Not assigned</td>\n      <td>Not assigned\\n</td>\n    </tr>\n    <tr>\n      <td>1</td>\n      <td>M2A</td>\n      <td>Not assigned</td>\n      <td>Not assigned\\n</td>\n    </tr>\n    <tr>\n      <td>2</td>\n      <td>M3A</td>\n      <td>North York</td>\n      <td>Parkwoods\\n</td>\n    </tr>\n    <tr>\n      <td>3</td>\n      <td>M4A</td>\n      <td>North York</td>\n      <td>Victoria Village\\n</td>\n    </tr>\n    <tr>\n      <td>4</td>\n      <td>M5A</td>\n      <td>Downtown Toronto</td>\n      <td>Harbourfront\\n</td>\n    </tr>\n  </tbody>\n</table>\n</div>",
      "text/plain": "  Postcode           Borough      Neighborhood\\n\n0      M1A      Not assigned      Not assigned\\n\n1      M2A      Not assigned      Not assigned\\n\n2      M3A        North York         Parkwoods\\n\n3      M4A        North York  Victoria Village\\n\n4      M5A  Downtown Toronto      Harbourfront\\n"
     },
     "execution_count": 6,
     "metadata": {},
     "output_type": "execute_result"
    }
   ],
   "source": [
    "df.head()"
   ]
  },
  {
   "cell_type": "markdown",
   "execution_count": null,
   "metadata": {},
   "outputs": [],
   "source": [
    "Rename some columns"
   ]
  },
  {
   "cell_type": "code",
   "execution_count": 7,
   "metadata": {},
   "outputs": [],
   "source": [
    "df.rename(columns={\"Neighborhood\\n\": \"Neighborhood\"}, inplace=True)"
   ]
  },
  {
   "cell_type": "markdown",
   "execution_count": null,
   "metadata": {},
   "outputs": [],
   "source": [
    "Replace \"\\n\" in the end of the \"Neighborhood\" column"
   ]
  },
  {
   "cell_type": "code",
   "execution_count": 8,
   "metadata": {},
   "outputs": [],
   "source": [
    "df['Neighborhood'].replace('\\n', '', regex=True, inplace=True)"
   ]
  },
  {
   "cell_type": "markdown",
   "execution_count": null,
   "metadata": {},
   "outputs": [],
   "source": [
    "Drop rows with 'Borough' == 'Not assigned'"
   ]
  },
  {
   "cell_type": "code",
   "execution_count": 9,
   "metadata": {},
   "outputs": [],
   "source": [
    "df.drop(df[df['Borough'] == 'Not assigned'].index, axis=0, inplace=True)"
   ]
  },
  {
   "cell_type": "markdown",
   "execution_count": null,
   "metadata": {},
   "outputs": [],
   "source": [
    "If a cell has a borough but a Not assigned neighborhood, then the neighborhood will be the same as the borough"
   ]
  },
  {
   "cell_type": "code",
   "execution_count": 10,
   "metadata": {},
   "outputs": [],
   "source": [
    "df['Neighborhood'].replace('Not assigned', df['Borough'], inplace=True)"
   ]
  },
  {
   "cell_type": "markdown",
   "execution_count": null,
   "metadata": {},
   "outputs": [],
   "source": [
    "Concatenate 'Neighborhood' for one postal code area "
   ]
  },
  {
   "cell_type": "code",
   "execution_count": 11,
   "metadata": {},
   "outputs": [],
   "source": [
    "# Group by 'Postcode','Borough'\n",
    "# Apply concatenation 'Neighborhood' with ','\n",
    "# Convert to pandas DataFrame\n",
    "# Reset index\n",
    "Toronto_df = df.groupby(['Postcode','Borough'], as_index=True)['Neighborhood'].apply(lambda tags: ','.join(tags)).to_frame().reset_index()"
   ]
  },
  {
   "cell_type": "markdown",
   "execution_count": null,
   "metadata": {},
   "outputs": [],
   "source": [
    "Take a look at the result dataframe"
   ]
  },
  {
   "cell_type": "code",
   "execution_count": 12,
   "metadata": {},
   "outputs": [],
   "source": [
    "Toronto_df.head()"
   ]
  },
  {
   "cell_type": "code",
   "execution_count": 0,
   "metadata": {},
   "outputs": [],
   "source": [
    "Toronto_df.shape"
   ]
  },
  {
   "cell_type": "code",
   "execution_count": null,
   "metadata": {},
   "outputs": [],
   "source": []
  }
 ]
}